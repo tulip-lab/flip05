{
 "cells": [
  {
   "cell_type": "markdown",
   "metadata": {},
   "source": [
    "# FLIP (04) Math Foundation\n",
    "\n",
    "---\n",
    "Team Director: Ye Lei | ylei@tulip.academy<br />\n",
    "\n",
    "TULIP Academy <br />\n",
    "http://www.tulip.academy\n",
    "\n",
    "---\n",
    "\n",
    "## Session 1  Birthday paradox"
   ]
  },
  {
   "cell_type": "markdown",
   "metadata": {},
   "source": [
    "**Problem 1a.** During exercise session, we showed that for $d$ equally likely dates in a year and $n$ people, the probability of a repeat date is $p(n)=1-\\frac{d^\\underline{n}}{d^n}$. We also derived a simple approximate formula for this probability: $p_a(n) = 1-e^{-\\frac{n(n-1)}{2d}}$. In particular, this approximation implies that for $d=365$ dates, $p(n)$ is close to $\\frac{1}{2}$ for $n=23$.\n",
    "\n",
    "Verify how good the approximation is. To this end, write a program that computes the exact value of $p(n)$ as well as the value of the approximation $p_a(n)$ for $d=365$ and $n=1,\\ldots,60$. Plot the graphs of the two functions."
   ]
  },
  {
   "cell_type": "code",
   "execution_count": null,
   "metadata": {
    "collapsed": false
   },
   "outputs": [],
   "source": [
    "%matplotlib inline\n",
    "import math\n",
    "import matplotlib.pyplot as plt\n",
    "\n",
    "# d = 365, n = 1, ..., 60\n",
    "def p_a(d, n):\n",
    "    v  = 1.0\n",
    "    for i in range(n):\n",
    "        v = v * (d - i) / d\n",
    "    return 1 - v\n",
    "\n",
    "def p_b(d, n):\n",
    "    v = math.exp(-n * (n - 1) / (2 * d))\n",
    "    return 1 - v\n",
    "\n",
    "d = 365\n",
    "n = 60\n",
    "x = range(1, n + 1) # 1, 2, ..., n\n",
    "y = [p_a(d, i) for i in x]\n",
    "z = [p_b(d, i) for i in x]\n",
    "\n",
    "print(p_a(d, n))\n",
    "print(p_b(d, n))\n",
    "print(p_a(d, n) - p_b(d, n))\n",
    "\n",
    "plt.plot(x, y)\n",
    "plt.plot(x, z)\n"
   ]
  },
  {
   "cell_type": "markdown",
   "metadata": {},
   "source": [
    "**Problem 1b.**\n",
    "Implement a function, that chooses random dates out of $1,\\ldots,d$ until a repeat occurs. The function should return the number of the step in which that happened. Run the function $N=100\\,000$ times. \n",
    "    * Plot a histogram of the return values.\n",
    "    * Which return value seems most likely? \n",
    "    * What is the average of the return values?\n",
    "    * Is there any simple relation between these two numbers and the value $23$ in the previous problem?\n",
    "    * Is there any simple relation between the histogram obtained, and the plot in the previous problem?"
   ]
  },
  {
   "cell_type": "code",
   "execution_count": null,
   "metadata": {
    "collapsed": false
   },
   "outputs": [],
   "source": [
    "%%time\n",
    "%matplotlib inline\n",
    "import math\n",
    "import random\n",
    "import matplotlib.pyplot as plt\n",
    "import numpy as np\n",
    "\n",
    "def ran_dates(v, tab):\n",
    "    tab = [0 for i in range(0, v + 1)]\n",
    "    i = 1\n",
    "    while i < 10000:\n",
    "        value = random.randint(1, v)\n",
    "        tab[i] = value\n",
    "        if tab[value] > 1:\n",
    "            return i\n",
    "        i = i + 1\n",
    "    return 10000\n",
    "\n",
    "v = 365\n",
    "tab = [0 for i in range(0, v + 1)]\n",
    "tab2 = [ran_dates(v, tab) for i in range(100000)]\n",
    "\n",
    "plt.hist(tab2, bins=30)\n",
    "plt.show()\n"
   ]
  },
  {
   "cell_type": "markdown",
   "metadata": {},
   "source": [
    "**Problem 1c.** Here we investigate how our analysis using the classical approach compares to a more empirical one. The file *us_births_69_88.csv* contains the counts for birthdates from 1969 to 1988. Only those births, for which the full date is known, are included in the file.\n",
    "    * Read the file.\n",
    "    * Investigate the data. Do you notice anything strange?\n",
    "    * Plot a heatmap of the data. Do you notice any significant deviations from the uniform assumption? Can you explain them?\n",
    "    * Implement a sampling function as in 1b, but this time using the supplied data. Compare the results."
   ]
  },
  {
   "cell_type": "code",
   "execution_count": null,
   "metadata": {
    "collapsed": false
   },
   "outputs": [],
   "source": [
    "%%time\n",
    "%matplotlib inline\n",
    "import math\n",
    "import random\n",
    "import matplotlib.pyplot as plt\n",
    "import numpy as np\n",
    "import bisect\n",
    "\n",
    "stats = np.loadtxt('birthday_us_births_69_88.csv', skiprows = 1, delimiter=',', dtype = int)\n",
    "for i in range(1, len(stats)):\n",
    "    stats[i][2] = stats[i][2] + stats[i - 1][2]\n",
    "\n",
    "sum = stats[-1][2]\n",
    "\n",
    "def ran_dates(v, tab):\n",
    "    tab = [0 for i in range(0, v + 1)]\n",
    "    k = 1\n",
    "    while k < 10000:\n",
    "        p = random.uniform(0, 1)\n",
    "        p = p * sum\n",
    "        #szukamy pierwszego elementu co jest większy bądź równy p\n",
    "        i = np.searchsorted(stats[:, 2], p)\n",
    "        tab[i] = tab[i] + 1\n",
    "        if tab[i] > 1:\n",
    "            return k\n",
    "        k = k + 1\n",
    "    return 10000\n",
    "\n",
    "v = len(stats)\n",
    "tab = [0 for i in range(0, v + 1)]\n",
    "tab2 = [ran_dates(v, tab) for i in range(100000)]\n",
    "\n",
    "plt.hist(tab2, bins=30)\n",
    "plt.show()\n"
   ]
  }
 ],
 "metadata": {
  "anaconda-cloud": {},
  "kernelspec": {
   "display_name": "Python [conda root]",
   "language": "python",
   "name": "conda-root-py"
  },
  "language_info": {
   "codemirror_mode": {
    "name": "ipython",
    "version": 2
   },
   "file_extension": ".py",
   "mimetype": "text/x-python",
   "name": "python",
   "nbconvert_exporter": "python",
   "pygments_lexer": "ipython2",
   "version": "2.7.12"
  }
 },
 "nbformat": 4,
 "nbformat_minor": 0
}
