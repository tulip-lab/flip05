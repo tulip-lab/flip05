{
 "cells": [
  {
   "cell_type": "markdown",
   "metadata": {},
   "source": [
    "# FLIP (05) Learning Theory (II)\n",
    "\n",
    "---\n",
    "Team Director: Ye Lei | ylei@tulip.academy<br />\n",
    "\n",
    "TULIP Academy <br />\n",
    "http://www.tulip.academy\n",
    "\n",
    "---"
   ]
  },
  {
   "cell_type": "markdown",
   "metadata": {},
   "source": [
    "## Gaussian Random Processes"
   ]
  },
  {
   "cell_type": "markdown",
   "metadata": {},
   "source": [
    "Here, we will briefly introduce normal (Gaussian) random processes. We will discuss some examples of Gaussian processes in more detail later on. Many important practical random processes are subclasses of normal random processes."
   ]
  },
  {
   "cell_type": "markdown",
   "metadata": {},
   "source": [
    "First, let us remember a few facts about Gaussian random vectors. As we saw before, random variables $X_1, X_2,\\ldots, X_n$ are said to be __jointly normal__ if, for all$ a_1,a_2,\\ldots, a_n ∈R $, the random variable\n",
    "\n",
    "$$a_1X_1+a_2X_2+ \\cdots  +a_nX_n$$\n",
    "\n",
    " \n",
    "is a normal random variable. Also, a random vector\n",
    "$$\n",
    "    \\left[\n",
    "    \\begin{matrix}\n",
    "     X_1 \\\\\n",
    "     X_2 \\\\\n",
    "     \\vdots  \\\\\n",
    "     X_n \\\\\n",
    "    \\end{matrix}\n",
    "    \\right]\n",
    "$$"
   ]
  },
  {
   "cell_type": "markdown",
   "metadata": {},
   "source": [
    "is said to be **normal** or **Gaussian** if the random variables $X_1, X_2,\\ldots, X_n$ are jointly normal. An important property of jointly normal random variables is that their joint PDF is completely determined by their mean and covariance matrices. More specifically, for a normal random vector $X $with mean $m$ and covariance matrix $C$, the PDF is given by\n",
    "$$f_x(x) = \\frac{1}{2\\pi^{\\frac {n}{2}} \\sqrt{det C }} \\exp\\{ -\\frac{1}{2}(x-m)^TC^{-1}(x-m)\\}$$\n",
    "\n"
   ]
  },
  {
   "cell_type": "markdown",
   "metadata": {},
   "source": [
    "Now, let us define Gaussian random processes.  \n",
    "\n",
    "<table><tr><td > A random process ${X(t),t∈J}{X(t),t∈J}$ is said to be a **Gaussian (normal) random** process if, for all\n",
    "$$t_1,t_2,…,t_n∈J,$$\n",
    "the random variables $X(t_1), X(t_2),..., X(t_n)$ are jointly normal. </td></tr></table>"
   ]
  },
  {
   "cell_type": "markdown",
   "metadata": {},
   "source": [
    "#### Example 1 \n",
    "Let $X(t)$ be a zero-mean WSS Gaussian process with$R_{X(\\tau)}=e^{−{\\tau^2}}$, for all $ \\tau∈R$.\n",
    "  \n",
    "  1.Find $P(X(1)<1)$.\n",
    "  \n",
    "  2.Find $P(X(1)+X(2)<1)$."
   ]
  },
  {
   "cell_type": "markdown",
   "metadata": {},
   "source": [
    "An important property of normal random processes is that wide-sense stationarity and strict-sense stationarity are equivalent for these processes. More specifically, we can state the following theorem."
   ]
  },
  {
   "cell_type": "markdown",
   "metadata": {},
   "source": [
    "##### Theorem1  \n",
    "Consider the Gaussian random processes$ \\{X(t),t∈R\\}$. If $X(t)$ is WSS, then $X(t)$ is a stationary process."
   ]
  },
  {
   "cell_type": "markdown",
   "metadata": {},
   "source": [
    "Similarly, we can define jointly Gaussian random processes.\n",
    "\n",
    "<table><tr><td >\n",
    "Two random processes ${X(t),t∈J}$ and ${Y(t),t∈J′}$ are said to be __jointly Gaussian (normal)__, if for all\n",
    "$$t_1,t_2,\\cdots,t_m∈J  $$\n",
    " <center>and  </center>\n",
    "$$t^′_1,t^′_2,\\cdots,t^′_n∈J′,$$\n",
    "the random variables\n",
    "$$X(t_1),X(t_2),\\cdots,X(t_m),Y(t^′_1),Y(t^′_2),\\cdots,Y(t^′_n)$$\n",
    "are jointly normal.</td></tr></table>"
   ]
  },
  {
   "cell_type": "markdown",
   "metadata": {},
   "source": [
    "Note that from the properties of jointly normal random variables, we can conclude that if two jointly Gaussian random processes $X(t)$ and $Y(t)$ are uncorrelated, i.e.,\n",
    "<center>$C_{XY}(t_1,t_2)=0$,for all  $ t_1,t_2,$</center>\n",
    "then $X(t)$ and $Y(t)$ are two independent random processes."
   ]
  }
 ],
 "metadata": {
  "kernelspec": {
   "display_name": "Python [Root]",
   "language": "python",
   "name": "Python [Root]"
  },
  "language_info": {
   "codemirror_mode": {
    "name": "ipython",
    "version": 3
   },
   "file_extension": ".py",
   "mimetype": "text/x-python",
   "name": "python",
   "nbconvert_exporter": "python",
   "pygments_lexer": "ipython3",
   "version": "3.5.2"
  }
 },
 "nbformat": 4,
 "nbformat_minor": 0
}
