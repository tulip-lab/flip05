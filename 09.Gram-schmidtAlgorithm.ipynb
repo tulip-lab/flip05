{
 "cells": [
  {
   "cell_type": "markdown",
   "metadata": {},
   "source": [
    "# FLIP (04) Math Foundation\n",
    "\n",
    "---\n",
    "Team Director: Ye Lei | ylei@tulip.academy<br />\n",
    "\n",
    "TULIP Academy <br />\n",
    "http://www.tulip.academy\n",
    "\n",
    "---\n",
    "\n",
    "## Session 03  Gram-schmidt Algorithm"
   ]
  },
  {
   "cell_type": "markdown",
   "metadata": {},
   "source": [
    "The goal of the Gram-Schmidt algorithm is to normalize the matrix of column vectors that are linearly independent (vectors are vertical and have a length of 1)."
   ]
  },
  {
   "cell_type": "code",
   "execution_count": null,
   "metadata": {
    "collapsed": true
   },
   "outputs": [],
   "source": [
    "import numpy\n",
    "import math\n",
    "    \n",
    "def mgs(M):\n",
    "    if ( type( M ) is numpy.ndarray ):\n",
    "        M = numpy.matrix(M)\n",
    "    # Creates a new empty matrix same size as M\n",
    "    Q = numpy.matrix( numpy.empty( shape=M.shape ) )\n",
    "    R = numpy.matrix( numpy.empty( shape=M.shape ) )\n",
    "    # Collect necessary v_i\n",
    "    # TODO: This may be a wasteful assignment, and is O(n). \n",
    "    for index in range(0, M.shape[1] ):\n",
    "        Q[:,index] = M[:,index]\n",
    "    # Begin the loop defined by column size\n",
    "    for index in range(0, M.shape[1] ):\n",
    "        # Normalize r_(i,i)\n",
    "        R[index, index] = numpy.linalg.norm( Q[:,index] )\n",
    "        Q[:, index] = Q[:, index]/R[index, index]\n",
    "        \n",
    "        for  jndex in range( index+1, M.shape[1] ):\n",
    "            # Compute the norm of v for R\n",
    "            R[index, jndex] = Q[:, index].H*R[:, jndex]\n",
    "            R[:, jndex] = R[:, jndex] - R[index, jndex]*Q[:, index]\n",
    "            \n",
    "    return (Q,R)"
   ]
  },
  {
   "cell_type": "markdown",
   "metadata": {},
   "source": [
    "Write a Python code to test the Gram-schmidt algorithm"
   ]
  },
  {
   "cell_type": "code",
   "execution_count": null,
   "metadata": {
    "collapsed": false
   },
   "outputs": [],
   "source": [
    "\n",
    "import numpy as np\n",
    "\n",
    "M = np.random.rand(3,3)\n",
    "print(\"==== M =====\")\n",
    "print(M)\n",
    "print(\"\")\n",
    "(Q,R) = mgs(M)\n",
    "print(\"===== Q =====\")\n",
    "print(Q)\n",
    "print(\"\")\n",
    "print(\"===== R =====\")\n",
    "print (R)\n",
    "print(\"\")\n",
    "print(\"===== QR = M =====\")\n",
    "print(Q * R == M)\n",
    "print(\"\")\n",
    "print(\"===== M - QR =====\")\n",
    "print(M - Q*R)\n",
    "print(\"\")\n",
    "print(\"===== Q.H*Q =====\")\n",
    "print(Q.H*Q)"
   ]
  },
  {
   "cell_type": "code",
   "execution_count": null,
   "metadata": {
    "collapsed": true
   },
   "outputs": [],
   "source": []
  }
 ],
 "metadata": {
  "kernelspec": {
   "display_name": "Python [Root]",
   "language": "python",
   "name": "Python [Root]"
  },
  "language_info": {
   "codemirror_mode": {
    "name": "ipython",
    "version": 3
   },
   "file_extension": ".py",
   "mimetype": "text/x-python",
   "name": "python",
   "nbconvert_exporter": "python",
   "pygments_lexer": "ipython3",
   "version": "3.5.2"
  }
 },
 "nbformat": 4,
 "nbformat_minor": 0
}
