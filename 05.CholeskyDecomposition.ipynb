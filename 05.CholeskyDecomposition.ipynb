{
 "cells": [
  {
   "cell_type": "markdown",
   "metadata": {},
   "source": [
    "# FLIP (04) Math Foundation\n",
    "\n",
    "---\n",
    "Team Director: Ye Lei | ylei@tulip.academy<br />\n",
    "\n",
    "TULIP Academy <br />\n",
    "http://www.tulip.academy\n",
    "\n",
    "---\n",
    "\n",
    "## Session 11  Cholesky Decomposition "
   ]
  },
  {
   "cell_type": "markdown",
   "metadata": {},
   "source": [
    "Recall that a square matrix *$A$* is positive definite if\n",
    "\n",
    "<center>$uTAu>0$</center>\n",
    "\n",
    "for any non-zero n-dimensional vector *$u$* ,\n",
    "\n",
    "and a symmetric, positive-definite matrix *$A$* is a positive-definite matrix such that\n",
    "\n",
    "<center>$A=AT$</center>\n",
    "\n",
    "Let *$A$* be a symmetric, positive-definite matrix. There is a unique decomposition such that\n",
    "\n",
    "<center>$A=LL$<sup>$T$</sup></center>\n",
    "\n",
    "where  *$ L $*  is lower-triangular with positive diagonal elements and  $L$<sup>$T$</sup>  is its transpose. This decomposition is known as the Cholesky decompostion, and *$ L$* may be interpreted as the ‘square root’ of the matrix *$ A $*.\n",
    "\n",
    "![](figures/Matrix8.png)\n",
    "\n",
    "![](figures/Matrix9.png)"
   ]
  },
  {
   "cell_type": "code",
   "execution_count": 2,
   "metadata": {
    "collapsed": false
   },
   "outputs": [
    {
     "name": "stdout",
     "output_type": "stream",
     "text": [
      "[[  1.   3.   5.]\n",
      " [  3.  13.  23.]\n",
      " [  5.  23.  42.]]\n",
      "[[ 1.  3.  5.]\n",
      " [ 0.  2.  4.]\n",
      " [ 0.  0.  1.]]\n",
      "[[ 1  3  5]\n",
      " [ 3 13 23]\n",
      " [ 5 23 42]]\n"
     ]
    }
   ],
   "source": [
    "import numpy as np\n",
    "import scipy.linalg as la\n",
    "np.set_printoptions(suppress=True)\n",
    "\n",
    "A = np.array([[1,3,5],[3,13,23],[5,23,42]])\n",
    "L = la.cholesky(A)\n",
    "print(np.dot(L.T, L))\n",
    "\n",
    "print(L)\n",
    "print(A)"
   ]
  },
  {
   "cell_type": "markdown",
   "metadata": {},
   "source": [
    "Cholesky decomposition is about twice as fast as **LU** decomposition (though both scale as $n$<sup>$3$</sup>)."
   ]
  },
  {
   "cell_type": "code",
   "execution_count": null,
   "metadata": {
    "collapsed": true
   },
   "outputs": [],
   "source": []
  }
 ],
 "metadata": {
  "anaconda-cloud": {},
  "kernelspec": {
   "display_name": "Python [Root]",
   "language": "python",
   "name": "Python [Root]"
  },
  "language_info": {
   "codemirror_mode": {
    "name": "ipython",
    "version": 3
   },
   "file_extension": ".py",
   "mimetype": "text/x-python",
   "name": "python",
   "nbconvert_exporter": "python",
   "pygments_lexer": "ipython3",
   "version": "3.5.2"
  }
 },
 "nbformat": 4,
 "nbformat_minor": 0
}
